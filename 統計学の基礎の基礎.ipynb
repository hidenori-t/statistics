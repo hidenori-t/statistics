{
 "cells": [
  {
   "cell_type": "markdown",
   "metadata": {},
   "source": [
    "http://www.slideshare.net/matsukenbook/ss-53235145"
   ]
  },
  {
   "cell_type": "markdown",
   "metadata": {},
   "source": [
    "* 分散\n",
    "* 標準偏差"
   ]
  },
  {
   "cell_type": "markdown",
   "metadata": {},
   "source": [
    "## 偏差とは\n",
    "各データの平均値からの差のこと\n",
    "\n",
    "# 平均偏差\n",
    "偏差の平均値を取りたいが全部足すと0になる. なので, マイナスの偏差はマイナスを取り, 偏差の平均を取る.  \n",
    "平均からの距離を, 平均したもの\n",
    "\n",
    "$$ \\frac{1}{n}\\sum_{i=1}^{n}|x_{i}-\\bar{x}| $$\n",
    "偏差を足し合わせてデータ数:nで割っている. つまり平均をとっている.  \n",
    "$ |x_{i}-\\bar{x}| $ は, 絶対値を取り, 偏差を全てプラスに変えている.  \n",
    "(ここでの$ \\bar{x} $ は平均値のことっぽい)"
   ]
  },
  {
   "cell_type": "markdown",
   "metadata": {},
   "source": [
    "# 分散(variance)\n",
    "分散の直感的なイメージ\n",
    "いろいろなサイズの正方形(二乗しているので)を足し, データの個数で割り, 面積の平均を求める.\n",
    "\n",
    "$$ \\frac{1}{n}\\sum_{i=1}^{n}(x_{i}-\\bar{x})^{2} $$\n",
    "\n",
    "二乗した誤差を足し合わせてデータ数:nで割っている. つまり二乗誤差の平均をとっている.    \n",
    "$ (x_{i}-\\bar{x})^{2} $ は, 二乗して, 偏差を全てプラスに変えている.  \n",
    "二乗は, 面積をイメージして良い."
   ]
  },
  {
   "cell_type": "markdown",
   "metadata": {},
   "source": [
    "# 標準偏差(standard deviation)\n",
    "二乗した面積のイメージをルートの計算をすることで長さに戻す.\n",
    "$$  \\sqrt{\\frac{1}{n}\\sum_{i=1}^{n}(x_{i}-\\bar{x})^{2}} $$\n"
   ]
  },
  {
   "cell_type": "markdown",
   "metadata": {},
   "source": [
    "# 相関係数(correlation coefficient)\n",
    "\n",
    "$$ r = \\frac{\\frac{1}{n}\\sum_{i=1}^{n}( x_{i}-\\bar{x})(y_{i}-\\bar{y})}{{\\sqrt{\\frac{1}{n}\\sum_{i=1}^{n}(x_{i}-\\bar{x})^{2}}}{\\sqrt{\\frac{1}{n}\\sum_{i=1}^{n}(y_{i}-\\bar{y})^{2}}}} $$\n",
    "\n",
    "分母の\n",
    "$\\sqrt{\\frac{1}{n}\\sum_{i=1}^{n}(x_{i}-\\bar{x})^{2}}$\n",
    "と\n",
    "$\\sqrt{\\frac{1}{n}\\sum_{i=1}^{n}(y_{i}-\\bar{y})^{2}}$\n",
    "は標準偏差と同じであり, 二乗しているのでかならずプラスになる.\n",
    "\n",
    "分子の\n",
    "$\\frac{1}{n}\\sum_{i=1}^{n}(x_{i}-\\bar{x})(y_{i}-\\bar{y})$ を共分散という.  \n",
    "$(x_{i}-\\bar{x})$ 横軸, $(y_{i}-\\bar{y})$ 縦軸の,平均からの距離(偏差) 平均より小さいところはマイナスになる."
   ]
  },
  {
   "cell_type": "code",
   "execution_count": null,
   "metadata": {
    "collapsed": true
   },
   "outputs": [],
   "source": []
  }
 ],
 "metadata": {
  "kernelspec": {
   "display_name": "Python 3",
   "language": "python",
   "name": "python3"
  },
  "language_info": {
   "codemirror_mode": {
    "name": "ipython",
    "version": 3
   },
   "file_extension": ".py",
   "mimetype": "text/x-python",
   "name": "python",
   "nbconvert_exporter": "python",
   "pygments_lexer": "ipython3",
   "version": "3.5.0"
  }
 },
 "nbformat": 4,
 "nbformat_minor": 0
}
